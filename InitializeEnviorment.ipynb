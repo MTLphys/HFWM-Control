{
 "cells": [
  {
   "cell_type": "code",
   "execution_count": 1,
   "metadata": {},
   "outputs": [
    {
     "name": "stdout",
     "output_type": "stream",
     "text": [
      "Collecting dearpygui\n",
      "  Downloading dearpygui-1.10.1-cp39-cp39-win_amd64.whl.metadata (13 kB)\n",
      "Downloading dearpygui-1.10.1-cp39-cp39-win_amd64.whl (1.7 MB)\n",
      "   ---------------------------------------- 0.0/1.7 MB ? eta -:--:--\n",
      "   ----- ---------------------------------- 0.2/1.7 MB 6.7 MB/s eta 0:00:01\n",
      "   ----------------------- ---------------- 1.0/1.7 MB 12.7 MB/s eta 0:00:01\n",
      "   --------------------------------- ------ 1.4/1.7 MB 12.9 MB/s eta 0:00:01\n",
      "   ---------------------------------------- 1.7/1.7 MB 12.1 MB/s eta 0:00:00\n",
      "Installing collected packages: dearpygui\n",
      "Successfully installed dearpygui-1.10.1\n",
      "Note: you may need to restart the kernel to use updated packages.\n"
     ]
    }
   ],
   "source": [
    "pip install dearpygui "
   ]
  },
  {
   "cell_type": "code",
   "execution_count": 2,
   "metadata": {},
   "outputs": [
    {
     "name": "stdout",
     "output_type": "stream",
     "text": [
      "Collecting numpy\n",
      "  Downloading numpy-1.26.1-cp39-cp39-win_amd64.whl.metadata (61 kB)\n",
      "     ---------------------------------------- 0.0/61.2 kB ? eta -:--:--\n",
      "     --------------------------------- ------ 51.2/61.2 kB 2.7 MB/s eta 0:00:01\n",
      "     ---------------------------------------- 61.2/61.2 kB 1.1 MB/s eta 0:00:00\n",
      "Downloading numpy-1.26.1-cp39-cp39-win_amd64.whl (15.8 MB)\n",
      "   ---------------------------------------- 0.0/15.8 MB ? eta -:--:--\n",
      "    --------------------------------------- 0.3/15.8 MB 7.7 MB/s eta 0:00:03\n",
      "   - -------------------------------------- 0.8/15.8 MB 9.8 MB/s eta 0:00:02\n",
      "   --- ------------------------------------ 1.5/15.8 MB 13.8 MB/s eta 0:00:02\n",
      "   ----- ---------------------------------- 2.0/15.8 MB 14.2 MB/s eta 0:00:01\n",
      "   ------ --------------------------------- 2.6/15.8 MB 13.8 MB/s eta 0:00:01\n",
      "   --------- ------------------------------ 3.6/15.8 MB 14.3 MB/s eta 0:00:01\n",
      "   ---------- ----------------------------- 4.2/15.8 MB 14.9 MB/s eta 0:00:01\n",
      "   ------------ --------------------------- 5.0/15.8 MB 15.8 MB/s eta 0:00:01\n",
      "   -------------- ------------------------- 5.9/15.8 MB 16.3 MB/s eta 0:00:01\n",
      "   ----------------- ---------------------- 6.9/15.8 MB 17.0 MB/s eta 0:00:01\n",
      "   ------------------- -------------------- 7.7/15.8 MB 17.6 MB/s eta 0:00:01\n",
      "   ---------------------- ----------------- 8.8/15.8 MB 18.1 MB/s eta 0:00:01\n",
      "   ------------------------ --------------- 9.8/15.8 MB 18.4 MB/s eta 0:00:01\n",
      "   --------------------------- ------------ 10.9/15.8 MB 21.1 MB/s eta 0:00:01\n",
      "   ------------------------------ --------- 12.1/15.8 MB 21.8 MB/s eta 0:00:01\n",
      "   --------------------------------- ------ 13.1/15.8 MB 23.4 MB/s eta 0:00:01\n",
      "   ------------------------------------ --- 14.3/15.8 MB 25.2 MB/s eta 0:00:01\n",
      "   -------------------------------------- - 15.4/15.8 MB 26.2 MB/s eta 0:00:01\n",
      "   -------------------------------------- - 15.4/15.8 MB 26.2 MB/s eta 0:00:01\n",
      "   ---------------------------------------  15.8/15.8 MB 22.6 MB/s eta 0:00:01\n",
      "   ---------------------------------------- 15.8/15.8 MB 19.8 MB/s eta 0:00:00\n",
      "Installing collected packages: numpy\n",
      "Successfully installed numpy-1.26.1\n",
      "Note: you may need to restart the kernel to use updated packages.\n"
     ]
    }
   ],
   "source": [
    "pip install numpy "
   ]
  },
  {
   "cell_type": "code",
   "execution_count": 9,
   "metadata": {},
   "outputs": [
    {
     "data": {
      "text/plain": [
       "50"
      ]
     },
     "execution_count": 9,
     "metadata": {},
     "output_type": "execute_result"
    }
   ],
   "source": [
    "import numpy as np\n",
    "len(np.linspace(-10,10))"
   ]
  },
  {
   "cell_type": "code",
   "execution_count": 6,
   "metadata": {},
   "outputs": [
    {
     "name": "stdout",
     "output_type": "stream",
     "text": [
      "2\n"
     ]
    }
   ],
   "source": [
    "import dearpygui.dearpygui as dpg \n",
    "print(dpg.mvFontAtlas)"
   ]
  },
  {
   "cell_type": "code",
   "execution_count": 10,
   "metadata": {},
   "outputs": [
    {
     "ename": "TypeError",
     "evalue": "cannot unpack non-iterable NoneType object",
     "output_type": "error",
     "traceback": [
      "\u001b[1;31m---------------------------------------------------------------------------\u001b[0m",
      "\u001b[1;31mTypeError\u001b[0m                                 Traceback (most recent call last)",
      "\u001b[1;32mc:\\Users\\mattl\\OneDrive - University of Cincinnati\\Desktop\\Work Programs\\HFWM Control\\InitializeEnviorment.ipynb Cell 5\u001b[0m line \u001b[0;36m1\n\u001b[0;32m     <a href='vscode-notebook-cell:/c%3A/Users/mattl/OneDrive%20-%20University%20of%20Cincinnati/Desktop/Work%20Programs/HFWM%20Control/InitializeEnviorment.ipynb#W4sZmlsZQ%3D%3D?line=10'>11</a>\u001b[0m         user_data[\u001b[39m'\u001b[39m\u001b[39mnext_key\u001b[39m\u001b[39m'\u001b[39m] \u001b[39m=\u001b[39m \u001b[39m1\u001b[39m\n\u001b[0;32m     <a href='vscode-notebook-cell:/c%3A/Users/mattl/OneDrive%20-%20University%20of%20Cincinnati/Desktop/Work%20Programs/HFWM%20Control/InitializeEnviorment.ipynb#W4sZmlsZQ%3D%3D?line=13'>14</a>\u001b[0m \u001b[39m# Load in the Logo and add it to the texture_registry\u001b[39;00m\n\u001b[0;32m     <a href='vscode-notebook-cell:/c%3A/Users/mattl/OneDrive%20-%20University%20of%20Cincinnati/Desktop/Work%20Programs/HFWM%20Control/InitializeEnviorment.ipynb#W4sZmlsZQ%3D%3D?line=14'>15</a>\u001b[0m \u001b[39m# TODO: Find out, what that thing is actually doing. It is not really clear atm.\u001b[39;00m\n\u001b[1;32m---> <a href='vscode-notebook-cell:/c%3A/Users/mattl/OneDrive%20-%20University%20of%20Cincinnati/Desktop/Work%20Programs/HFWM%20Control/InitializeEnviorment.ipynb#W4sZmlsZQ%3D%3D?line=15'>16</a>\u001b[0m width, height, channels, data \u001b[39m=\u001b[39m dpg\u001b[39m.\u001b[39mload_image(\u001b[39m\"\u001b[39m\u001b[39mresources\u001b[39m\u001b[39m\\\u001b[39m\u001b[39mlogo.png\u001b[39m\u001b[39m\"\u001b[39m)\n\u001b[0;32m     <a href='vscode-notebook-cell:/c%3A/Users/mattl/OneDrive%20-%20University%20of%20Cincinnati/Desktop/Work%20Programs/HFWM%20Control/InitializeEnviorment.ipynb#W4sZmlsZQ%3D%3D?line=16'>17</a>\u001b[0m \u001b[39mwith\u001b[39;00m dpg\u001b[39m.\u001b[39mtexture_registry():\n\u001b[0;32m     <a href='vscode-notebook-cell:/c%3A/Users/mattl/OneDrive%20-%20University%20of%20Cincinnati/Desktop/Work%20Programs/HFWM%20Control/InitializeEnviorment.ipynb#W4sZmlsZQ%3D%3D?line=17'>18</a>\u001b[0m     texture_id \u001b[39m=\u001b[39m dpg\u001b[39m.\u001b[39madd_dynamic_texture(width, height, data)\n",
      "\u001b[1;31mTypeError\u001b[0m: cannot unpack non-iterable NoneType object"
     ]
    }
   ],
   "source": [
    "import dearpygui.dearpygui as dpg\n",
    "\n",
    "# Callbacks\n",
    "def cb_nextpic(sender, app_data, user_data):\n",
    "    dpg.set_value(texture_id, user_data['textures'][user_data['next_key']])\n",
    "\n",
    "    # Set key for next Image. Rotate back to 1 when last image has been shown\n",
    "    if user_data['next_key'] < 11:\n",
    "        user_data['next_key'] = user_data['next_key']+1\n",
    "    else:\n",
    "        user_data['next_key'] = 1\n",
    "\n",
    "\n",
    "# Load in the Logo and add it to the texture_registry\n",
    "# TODO: Find out, what that thing is actually doing. It is not really clear atm.\n",
    "width, height, channels, data = dpg.load_image(\"resources\\logo.png\")\n",
    "with dpg.texture_registry():\n",
    "    texture_id = dpg.add_dynamic_texture(width, height, data)\n",
    "\n",
    "# Next, load in the rest of the pictures\n",
    "# Important: We are only interested in the data part here!\n",
    "# Important: All the images must have the same size, because they are\n",
    "#            displayed on the image that will be created from the\n",
    "#            texture_id of the registry\n",
    "img_dict = {}\n",
    "for a in range(11):\n",
    "    width, height, channels, data = dpg.load_image(f\"resources\\img{a+1}.png\")\n",
    "    img_dict[a+1] = data\n",
    "\n",
    "img_handler_dict = {\n",
    "    'next_key': 1,\n",
    "    'textures': img_dict\n",
    "}\n",
    "\n",
    "with dpg.window(label=\"Hangman\") as main_window:\n",
    "    dpg.add_image(texture_id)\n",
    "    dpg.add_button(label=\"Next IMG\", callback=cb_nextpic, user_data=img_handler_dict)\n",
    "    \n",
    "dpg.set_primary_window(main_window, True)\n",
    "dpg.start_dearpygui()"
   ]
  },
  {
   "cell_type": "code",
   "execution_count": null,
   "metadata": {},
   "outputs": [],
   "source": []
  }
 ],
 "metadata": {
  "kernelspec": {
   "display_name": ".venv",
   "language": "python",
   "name": "python3"
  },
  "language_info": {
   "codemirror_mode": {
    "name": "ipython",
    "version": 3
   },
   "file_extension": ".py",
   "mimetype": "text/x-python",
   "name": "python",
   "nbconvert_exporter": "python",
   "pygments_lexer": "ipython3",
   "version": "3.9.16"
  }
 },
 "nbformat": 4,
 "nbformat_minor": 2
}
