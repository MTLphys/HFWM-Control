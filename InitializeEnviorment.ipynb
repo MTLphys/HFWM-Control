{
 "cells": [
  {
   "cell_type": "code",
   "execution_count": 1,
   "metadata": {},
   "outputs": [
    {
     "name": "stdout",
     "output_type": "stream",
     "text": [
      "Collecting dearpygui\n",
      "  Downloading dearpygui-1.10.1-cp39-cp39-win_amd64.whl.metadata (13 kB)\n",
      "Downloading dearpygui-1.10.1-cp39-cp39-win_amd64.whl (1.7 MB)\n",
      "   ---------------------------------------- 0.0/1.7 MB ? eta -:--:--\n",
      "   ----- ---------------------------------- 0.2/1.7 MB 6.7 MB/s eta 0:00:01\n",
      "   ----------------------- ---------------- 1.0/1.7 MB 12.7 MB/s eta 0:00:01\n",
      "   --------------------------------- ------ 1.4/1.7 MB 12.9 MB/s eta 0:00:01\n",
      "   ---------------------------------------- 1.7/1.7 MB 12.1 MB/s eta 0:00:00\n",
      "Installing collected packages: dearpygui\n",
      "Successfully installed dearpygui-1.10.1\n",
      "Note: you may need to restart the kernel to use updated packages.\n"
     ]
    }
   ],
   "source": [
    "pip install dearpygui "
   ]
  },
  {
   "cell_type": "code",
   "execution_count": 2,
   "metadata": {},
   "outputs": [
    {
     "name": "stdout",
     "output_type": "stream",
     "text": [
      "Collecting numpy\n",
      "  Downloading numpy-1.26.1-cp39-cp39-win_amd64.whl.metadata (61 kB)\n",
      "     ---------------------------------------- 0.0/61.2 kB ? eta -:--:--\n",
      "     --------------------------------- ------ 51.2/61.2 kB 2.7 MB/s eta 0:00:01\n",
      "     ---------------------------------------- 61.2/61.2 kB 1.1 MB/s eta 0:00:00\n",
      "Downloading numpy-1.26.1-cp39-cp39-win_amd64.whl (15.8 MB)\n",
      "   ---------------------------------------- 0.0/15.8 MB ? eta -:--:--\n",
      "    --------------------------------------- 0.3/15.8 MB 7.7 MB/s eta 0:00:03\n",
      "   - -------------------------------------- 0.8/15.8 MB 9.8 MB/s eta 0:00:02\n",
      "   --- ------------------------------------ 1.5/15.8 MB 13.8 MB/s eta 0:00:02\n",
      "   ----- ---------------------------------- 2.0/15.8 MB 14.2 MB/s eta 0:00:01\n",
      "   ------ --------------------------------- 2.6/15.8 MB 13.8 MB/s eta 0:00:01\n",
      "   --------- ------------------------------ 3.6/15.8 MB 14.3 MB/s eta 0:00:01\n",
      "   ---------- ----------------------------- 4.2/15.8 MB 14.9 MB/s eta 0:00:01\n",
      "   ------------ --------------------------- 5.0/15.8 MB 15.8 MB/s eta 0:00:01\n",
      "   -------------- ------------------------- 5.9/15.8 MB 16.3 MB/s eta 0:00:01\n",
      "   ----------------- ---------------------- 6.9/15.8 MB 17.0 MB/s eta 0:00:01\n",
      "   ------------------- -------------------- 7.7/15.8 MB 17.6 MB/s eta 0:00:01\n",
      "   ---------------------- ----------------- 8.8/15.8 MB 18.1 MB/s eta 0:00:01\n",
      "   ------------------------ --------------- 9.8/15.8 MB 18.4 MB/s eta 0:00:01\n",
      "   --------------------------- ------------ 10.9/15.8 MB 21.1 MB/s eta 0:00:01\n",
      "   ------------------------------ --------- 12.1/15.8 MB 21.8 MB/s eta 0:00:01\n",
      "   --------------------------------- ------ 13.1/15.8 MB 23.4 MB/s eta 0:00:01\n",
      "   ------------------------------------ --- 14.3/15.8 MB 25.2 MB/s eta 0:00:01\n",
      "   -------------------------------------- - 15.4/15.8 MB 26.2 MB/s eta 0:00:01\n",
      "   -------------------------------------- - 15.4/15.8 MB 26.2 MB/s eta 0:00:01\n",
      "   ---------------------------------------  15.8/15.8 MB 22.6 MB/s eta 0:00:01\n",
      "   ---------------------------------------- 15.8/15.8 MB 19.8 MB/s eta 0:00:00\n",
      "Installing collected packages: numpy\n",
      "Successfully installed numpy-1.26.1\n",
      "Note: you may need to restart the kernel to use updated packages.\n"
     ]
    }
   ],
   "source": [
    "pip install numpy "
   ]
  },
  {
   "cell_type": "code",
   "execution_count": null,
   "metadata": {},
   "outputs": [],
   "source": [
    "pip install "
   ]
  }
 ],
 "metadata": {
  "kernelspec": {
   "display_name": ".venv",
   "language": "python",
   "name": "python3"
  },
  "language_info": {
   "codemirror_mode": {
    "name": "ipython",
    "version": 3
   },
   "file_extension": ".py",
   "mimetype": "text/x-python",
   "name": "python",
   "nbconvert_exporter": "python",
   "pygments_lexer": "ipython3",
   "version": "3.9.16"
  }
 },
 "nbformat": 4,
 "nbformat_minor": 2
}
